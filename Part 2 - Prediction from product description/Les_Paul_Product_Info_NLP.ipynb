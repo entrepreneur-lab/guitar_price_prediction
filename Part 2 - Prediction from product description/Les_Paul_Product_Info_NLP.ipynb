{
 "cells": [
  {
   "cell_type": "markdown",
   "id": "cf145dd0-a907-42d7-866b-40e39dcfc8b0",
   "metadata": {},
   "source": [
    "# Part 2 - Price prediction using Natural Language Processing (NLP)\n",
    "\n",
    "In Part 1, I used attributes of Les Paul models to predict the retail price. This approach worked in principle but the model error was too large to be useful. A better approach might be to use the product description to identify key pieces of text which would allude to the price. For example, a basic guitar might have a very simplistic product description but an expensive guitar could have some unique keywords which would allude to a higher price tag. With this in mind, let's try NLP to predict guitar prices!"
   ]
  },
  {
   "cell_type": "code",
   "execution_count": null,
   "id": "d7500a37-91d7-4d4f-8f41-30b941f38086",
   "metadata": {},
   "outputs": [],
   "source": []
  }
 ],
 "metadata": {
  "kernelspec": {
   "display_name": "Python 3 (ipykernel)",
   "language": "python",
   "name": "python3"
  },
  "language_info": {
   "codemirror_mode": {
    "name": "ipython",
    "version": 3
   },
   "file_extension": ".py",
   "mimetype": "text/x-python",
   "name": "python",
   "nbconvert_exporter": "python",
   "pygments_lexer": "ipython3",
   "version": "3.8.5"
  }
 },
 "nbformat": 4,
 "nbformat_minor": 5
}
